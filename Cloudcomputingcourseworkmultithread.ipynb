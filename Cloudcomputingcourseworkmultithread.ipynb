{
  "cells": [
    {
      "cell_type": "markdown",
      "metadata": {
        "id": "IxhzAPaVORmO"
      },
      "source": [
        "Importing modules"
      ]
    },
    {
      "cell_type": "code",
      "execution_count": 1,
      "metadata": {
        "id": "X_dH7kNWXy47"
      },
      "outputs": [],
      "source": [
        "#visualisation and processing modules\n",
        "import numpy as np\n",
        "import pandas as pd\n",
        "import requests\n",
        "import datetime\n",
        "\n",
        "#threading modules\n",
        "import logging\n",
        "import threading\n",
        "import time\n",
        "from threading import Thread\n",
        "from time import sleep, perf_counter"
      ]
    },
    {
      "cell_type": "markdown",
      "metadata": {
        "id": "1-bzWy5GYpLJ"
      },
      "source": [
        "Reading in of Datasets"
      ]
    },
    {
      "cell_type": "code",
      "execution_count": 2,
      "metadata": {
        "id": "lO1wA5hTYhwx"
      },
      "outputs": [],
      "source": [
        "#Prepare column names\n",
        "columns1=[\"Passenger_ID\", \"Flight_ID\", \"From_Airport_Code\", \"To_Airport_Code\",\"Departure_Time\", \"Duration\"]\n",
        "columns2=[\"Airport\",\"From_Airport_Code\", \"Latitude\",\"Longitude\"]\n",
        "#Read in both data sets\n",
        "airport=pd.read_csv('AComp_Passenger_data_no_error(1).csv',names=columns1)\n",
        "latlong=pd.read_csv('Top30_airports_LatLong(1).csv',names=columns2)\n",
        "\n"
      ]
    },
    {
      "cell_type": "code",
      "execution_count": 3,
      "metadata": {
        "colab": {
          "base_uri": "https://localhost:8080/"
        },
        "id": "5JdkpKVKYjvn",
        "outputId": "d9aa1a71-9f8e-4f95-c58b-2de385d557d6"
      },
      "outputs": [
        {
          "output_type": "stream",
          "name": "stdout",
          "text": [
            "    Passenger_ID Flight_ID From_Airport_Code To_Airport_Code  Departure_Time  \\\n",
            "0     UES9151GS5  SQU6245R               DEN             FRA      1420564460   \n",
            "1     UES9151GS5  XXQ4064B               JFK             FRA      1420563917   \n",
            "2     EZC9678QI6  SOH3431A               ORD             MIA      1420563649   \n",
            "3     ONL0812DH1  SOH3431A               ORD             MIA      1420563649   \n",
            "4     CYJ0225CH1  PME8178S               DEN             PEK      1420564409   \n",
            "..           ...       ...               ...             ...             ...   \n",
            "495   BWI0520BG6  BER7172M               KUL             LAS      1420565167   \n",
            "496   LLZ3798PE3  EWH6301Y               CAN             DFW      1420564967   \n",
            "497   KKP5277HZ7  KJR6646J               IAH             BKK      1420565203   \n",
            "498   JJM4724RF7  XXQ4064B               JFK             FRA      1420563917   \n",
            "499   SJD8775RZ4  WSK1289Z               CLT             DEN      1420563542   \n",
            "\n",
            "     Duration  \n",
            "0        1049  \n",
            "1         802  \n",
            "2         250  \n",
            "3         250  \n",
            "4        1322  \n",
            "..        ...  \n",
            "495      1848  \n",
            "496      1683  \n",
            "497      1928  \n",
            "498       802  \n",
            "499       278  \n",
            "\n",
            "[500 rows x 6 columns]\n"
          ]
        }
      ],
      "source": [
        "#Basic overview of airport dataset\n",
        "print(airport) "
      ]
    },
    {
      "cell_type": "code",
      "execution_count": 4,
      "metadata": {
        "colab": {
          "base_uri": "https://localhost:8080/"
        },
        "id": "NgrlQrJ_Y0oB",
        "outputId": "75b97343-726f-4aac-b398-b09b13675779"
      },
      "outputs": [
        {
          "output_type": "stream",
          "name": "stdout",
          "text": [
            "              Airport From_Airport_Code   Latitude   Longitude\n",
            "0             ATLANTA               ATL  33.636719  -84.428067\n",
            "1             BEIJING               PEK  40.080111  116.584556\n",
            "2              LONDON               LHR  51.477500   -0.461389\n",
            "3             CHICAGO               ORD  41.978603  -87.904842\n",
            "4               TOKYO               HND  35.552258  139.779694\n",
            "5         LOS ANGELES               LAX  33.942536 -118.408075\n",
            "6               PARIS               CDG  49.012779    2.550000\n",
            "7   DALLAS/FORT WORTH               DFW  32.896828  -97.037997\n",
            "8           FRANKFURT               FRA  50.026421    8.543125\n",
            "9           HONG KONG               HKG  22.308919  113.914603\n",
            "10             DENVER               DEN  39.861656 -104.673178\n",
            "11              DUBAI               DXB  25.252778   55.364444\n",
            "12            JAKARTA               CGK  -6.125567  106.655897\n",
            "13          AMSTERDAM               AMS  52.308613    4.763889\n",
            "14             MADRID               MAD  40.493556   -3.566764\n",
            "15            BANGKOK               BKK  13.681108  100.747283\n",
            "16           NEW YORK               JFK  40.639751  -73.778925\n",
            "17          SINGAPORE               SIN   1.350189  103.994433\n",
            "18          GUANGZHOU               CAN  23.392436  113.298786\n",
            "19          LAS VEGAS               LAS  36.080056 -115.152250\n",
            "20           SHANGHAI               PVG  31.143378  121.805214\n",
            "21      SAN FRANCISCO               SFO  37.618972 -122.374889\n",
            "22            PHOENIX               PHX  33.434278 -112.011583\n",
            "23            HOUSTON               IAH  29.984433  -95.341442\n",
            "24          CHARLOTTE               CLT  35.214000  -80.943139\n",
            "25              MIAMI               MIA  25.793250  -80.290556\n",
            "26             MUNICH               MUC  48.353783   11.786086\n",
            "27       KUALA LUMPUR               KUL   2.745578  101.709917\n",
            "28               ROME               FCO  41.804475   12.250797\n",
            "29           ISTANBUL               IST  40.976922   28.814606\n"
          ]
        }
      ],
      "source": [
        "#Basic overview of latitude and logitude dataset\n",
        "print(latlong)"
      ]
    },
    {
      "cell_type": "markdown",
      "metadata": {
        "id": "RG0KdP0sZEDR"
      },
      "source": [
        "Task 1:"
      ]
    },
    {
      "cell_type": "code",
      "execution_count": 4,
      "metadata": {
        "id": "Dq33em3IZH9B"
      },
      "outputs": [],
      "source": [
        "###Restrict Airport data set to airport codes and index\n",
        "airport1=airport.loc[:,'From_Airport_Code']\n",
        "\n",
        "###Restrict Latlong data set to airport names and corresponding airport codes\n",
        "latlong1=latlong[['Airport','From_Airport_Code']].set_index('Airport')\n",
        "\n",
        "###Restrict Airport data set to passenger id and index\n",
        "passenger1=airport.loc[:,'Passenger_ID']\n",
        "#\n",
        "#print(airport1)\n",
        "#print(latlong1)\n",
        "#print(passenger1)"
      ]
    },
    {
      "cell_type": "code",
      "source": [
        "#Task 1: Determine the total number of flights from each airport\n",
        "\n",
        "#Initialise lists\n",
        "targetlist = []\n",
        "dictionarylist = []\n",
        "\n",
        "#common variables\n",
        "#CountDB: database containing variable and values of interest\n",
        "#LabelDB: the database containing the new labels you wish to overwrite countdb with.\n",
        "#MergeVariable: the primary variable which you are replacing with your labeldb\n",
        "#ThreadNo: Number of Threads\n",
        "#Replace_Dictionary: Dictionary containing values from LabelDB to replace values in Count DB\n",
        "\n",
        "#Function:creates a list of indices to partition the CountDB into number of ThreadNo partitions \n",
        "def divider(CountDB,ThreadNo): \n",
        "  filevalue, ThreadNoValue = divmod(CountDB.size, ThreadNo) \n",
        "  #Calculate what the modulo is based on the ThreadNo of the file\n",
        "  return (CountDB[i*filevalue+min(i, ThreadNoValue):(i+1)*filevalue+min(i+1, ThreadNoValue)] for i in range(ThreadNo))\n",
        "\n",
        "#Function for partitioning the sets in preperation for threading\n",
        "def partitioner1(CountDB,ThreadNo,i):\n",
        "  #tests if CountDB can be cleanly partitioned by split of ThreadNo.\n",
        "  if CountDB.size % ThreadNo == 0:\n",
        "      divider(CountDB,ThreadNo)\n",
        "      listing= list(divider(CountDB,ThreadNo))\n",
        "      index=listing[i]\n",
        "      #calls from the list and returns the index of the ith partition\n",
        "      return index\n",
        "  else:\n",
        "    #returns error if CountDB cannot be cleanly partitioned by split of ThreadNo.\n",
        "    print(str(CountDB.size) + ' cannot be subdivided by '+ str(ThreadNo))\n",
        "    raise ValueError\n",
        "\n",
        "#CountDB: file containing index and value which is being counted\n",
        "def read_input(CountDB):\n",
        "  for line in CountDB:\n",
        "  # Split the line into words\n",
        "    yield line.split()\n",
        "\n",
        "def inputmerge(LabelDB,MergeVariable):\n",
        "  #Input Segment\n",
        "  label_dictionary = LabelDB.to_dict(orient=\"dict\")[MergeVariable] \n",
        "  #converts LabelDB into dictionary based on the code you're trying to merge\n",
        "  inv_label_dictionary = {value: key for key, value in label_dictionary.items()}\n",
        "  #Inverts dictionary and returns it\n",
        "  #Output: <Airport, FAA Code> -> <FAA Code, Airport>\n",
        "  return inv_label_dictionary\n",
        "\n",
        "\n",
        "#Output: <Passenger code, x> where x is count, then work out max value\n",
        "def mapper1(LabelDB,CountDB,Replace_Dictionary):\n",
        "  #Map Segment\n",
        "  #Output: <FAA Code, x> -> <Airport, x>  where x is count\n",
        "  \n",
        "  #read in data\n",
        "  data = read_input(CountDB)\n",
        "  for words in data:\n",
        "    for word in words:\n",
        "      #check to ensure LabelDB is present, otherwise ignore\n",
        "      try:\n",
        "        targetcode= Replace_Dictionary[word] \n",
        "      except NameError:#send NameError if there isn't a match\n",
        "        targetcode= word \n",
        "        pass \n",
        "      dictkey= {targetcode: 1}#count value of interest and store as dictionary\n",
        "      dictionarylist.append(dict(dictkey)) #store dictionaries in list\n",
        "\n",
        "def threadsection1(LabelDB,CountDB,inverse_dictionary,ThreadNo):\n",
        "  #Begin Timer\n",
        "  start_time = perf_counter()\n",
        "  #Create thread list\n",
        "  threads=[]\n",
        "  #cycle through number of threads\n",
        "  for i in range(ThreadNo):\n",
        "    print(\"Activate thread \"+ str(i+1))\n",
        "    #Call partition for the tread\n",
        "    parting=partitioner1(CountDB,ThreadNo,i)\n",
        "    # start the mapper within the thread\n",
        "    thread = Thread(target=mapper1(LabelDB,parting,inverse_dictionary))\n",
        "    thread.start()\n",
        "    #add thread to thread list\n",
        "    threads.append(thread)\n",
        "\n",
        "  #cycle through active threads and instruct them wait until the threads terminate.\n",
        "  for i in range(len(threads)):\n",
        "    thread=threads[i]\n",
        "    thread.join()\n",
        "    print(\"End thread \"+ str(i+1))\n",
        "  #Stop timer\n",
        "  end_time = perf_counter()\n",
        "  #Calculate difference in start/stop time\n",
        "  print(f'It took {end_time- start_time: 0.2f} second(s) to complete.')\n",
        "\n",
        "\n",
        "\n",
        "#Reduce segment\n",
        "def reducer1():\n",
        "  #sorter segment, sorts dictionaries alphanumerically pre reduction\n",
        "  dictionary= sorted(dictionarylist, key= lambda d : list(d.keys()))\n",
        "\n",
        "  for key, value in dictionary[0].items():  #Starts count on first value and 0\n",
        "    current_target,current_count = [str(key),0] \n",
        "\n",
        "  for diction in dictionary:\n",
        "    for key, value in diction.items():\n",
        "\n",
        "      if key ==current_target:\n",
        "        current_count= current_count+value #If value is same as previous value, increment value+1\n",
        "\n",
        "      else:\n",
        "        targetkey= {current_target: current_count} \n",
        "        targetlist.append(dict(targetkey)) #store previous count and value in list of dictionary\n",
        "        current_target = key\n",
        "        current_count = value # set value to key and set count to 1\n",
        "\n",
        "\n",
        "def main(LabelDB,CountDB,MergeVariable,ThreadNo):\n",
        "  #map + reduce segments\n",
        "  try:\n",
        "    inverse_dictionary=inputmerge(LabelDB,MergeVariable)\n",
        "  except NameError: #pass name error if merge isn't possible\n",
        "    pass\n",
        "  #map ThreadNo up into threads\n",
        "  threadsection1(LabelDB,CountDB,inverse_dictionary,ThreadNo)\n",
        "  \n",
        "  reducer1()\n",
        "\n",
        "if __name__ == \"__main__\":\n",
        "  main(latlong1,airport1,'From_Airport_Code',4)\n",
        "\n",
        "\n",
        "print(targetlist)"
      ],
      "metadata": {
        "colab": {
          "base_uri": "https://localhost:8080/"
        },
        "id": "a55D7vx8H7d2",
        "outputId": "1f7c3773-3bd2-4597-eb46-617514be57dd"
      },
      "execution_count": 5,
      "outputs": [
        {
          "output_type": "stream",
          "name": "stdout",
          "text": [
            "Activate thread 1\n",
            "Activate thread 2\n",
            "Activate thread 3\n",
            "Activate thread 4\n",
            "End thread 1\n",
            "End thread 2\n",
            "End thread 3\n",
            "End thread 4\n",
            "It took  0.01 second(s) to complete.\n",
            "[{'AMSTERDAM': 15}, {'ATLANTA': 36}, {'BANGKOK': 17}, {'BEIJING': 13}, {'CHARLOTTE': 21}, {'CHICAGO': 33}, {'DALLAS/FORT WORTH': 11}, {'DENVER': 46}, {'GUANGZHOU': 37}, {'HOUSTON': 37}, {'JAKARTA': 27}, {'KUALA LUMPUR': 33}, {'LAS VEGAS': 17}, {'LONDON': 25}, {'MADRID': 13}, {'MIAMI': 11}, {'MUNICH': 14}, {'NEW YORK': 25}, {'PARIS': 21}, {'ROME': 15}, {'SHANGHAI': 20}]\n"
          ]
        }
      ]
    },
    {
      "cell_type": "code",
      "execution_count": 6,
      "metadata": {
        "colab": {
          "base_uri": "https://localhost:8080/"
        },
        "id": "tr9XrA5-UjrZ",
        "outputId": "16b38c4e-643a-445d-8557-8c62b4c24854"
      },
      "outputs": [
        {
          "output_type": "stream",
          "name": "stdout",
          "text": [
            "{'UES9151GS5': 25}\n"
          ]
        }
      ],
      "source": [
        "###Task 2: Determine the passenger having had the highest number of flights.\n",
        "\n",
        "#Initilise lists to store data\n",
        "targetlist = []\n",
        "dictionarylist2 = []\n",
        "\n",
        "#common variables\n",
        "#CountDB: database containing variable and values of interest\n",
        "\n",
        "def read_input(CountDB):\n",
        "  for line in CountDB:\n",
        "  # Split the line into words\n",
        "    yield line.split()\n",
        "\n",
        "#CountDB: file containing index and value which is being counted\n",
        "#Output: <Passenger code, x> where x is count, then work out max value\n",
        "def mapper2(CountDB):\n",
        "  #Map Segment\n",
        "  #read in data\n",
        "  inputdata = read_input(CountDB)\n",
        "  for words in inputdata:\n",
        "    dictkey2= {word: 1 for word in words} #count value of interest and store as dictionary\n",
        "    dictionarylist2.append(dict(dictkey2)) #store dictionaries in list\n",
        "  \n",
        "#Reduce segment\n",
        "def reducer2():\n",
        "  #sorter segment, sorts dictionaries alphanumerically pre reduction\n",
        "  dictionary2= sorted(dictionarylist2, key= lambda d : list(d.keys()))\n",
        "\n",
        "  #reduce segment\n",
        "  for key, value in dictionary2[0].items(): #Starts count on first value and 0\n",
        "    current_target,current_count = [str(key),0] \n",
        "\n",
        "  for diction2 in dictionary2: \n",
        "    for key, value in diction2.items(): \n",
        "\n",
        "      if key ==current_target: #If value is same as previous value, increment value+1\n",
        "        current_count= current_count+value\n",
        "\n",
        "      else: #Else value is not same,\n",
        "        targetkey= {current_target: current_count} \n",
        "        targetlist.append(dict(targetkey)) #store previous count and value in list of dictionary\n",
        "        current_target = key\n",
        "        current_count = value # set value to key and set count to 1\n",
        "\n",
        "def main(CountDB):\n",
        "  #map + reduce segments\n",
        "  mapper2(CountDB)\n",
        "  reducer2()\n",
        "  mosttarget = max(targetlist, key=lambda d:list(d.values())) #calculate maximum of final list of dictionaries\n",
        "  print(mosttarget)\n",
        "\n",
        "\n",
        "if __name__ == \"__main__\":\n",
        "  main(passenger1)\n",
        "\n",
        "#print(targetlist)\n"
      ]
    }
  ],
  "metadata": {
    "colab": {
      "collapsed_sections": [],
      "name": "Cloudcomputingcourseworkmultithread.ipynb",
      "provenance": [],
      "authorship_tag": "ABX9TyNIF3lXqVV9hfjXx3ypB1KG"
    },
    "kernelspec": {
      "display_name": "Python 3",
      "name": "python3"
    },
    "language_info": {
      "name": "python"
    }
  },
  "nbformat": 4,
  "nbformat_minor": 0
}