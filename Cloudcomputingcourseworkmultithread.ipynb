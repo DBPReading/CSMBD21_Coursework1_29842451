{
  "cells": [
    {
      "cell_type": "markdown",
      "metadata": {
        "id": "view-in-github",
        "colab_type": "text"
      },
      "source": [
        "<a href=\"https://colab.research.google.com/github/DBPReading/CSMBD21_Coursework1_29842451/blob/main/Cloudcomputingcourseworkmultithread.ipynb\" target=\"_parent\"><img src=\"https://colab.research.google.com/assets/colab-badge.svg\" alt=\"Open In Colab\"/></a>"
      ]
    },
    {
      "cell_type": "markdown",
      "metadata": {
        "id": "IxhzAPaVORmO"
      },
      "source": [
        "Importing modules"
      ]
    },
    {
      "cell_type": "code",
      "execution_count": 1,
      "metadata": {
        "id": "X_dH7kNWXy47"
      },
      "outputs": [],
      "source": [
        "#visualisation and processing modules\n",
        "import numpy as np\n",
        "import pandas as pd\n",
        "import requests\n",
        "from sklearn.model_selection import KFold\n",
        "import datetime\n",
        "\n",
        "#threading modules\n",
        "import logging\n",
        "import threading\n",
        "import time\n",
        "from threading import Thread\n",
        "from time import sleep, perf_counter"
      ]
    },
    {
      "cell_type": "markdown",
      "metadata": {
        "id": "1-bzWy5GYpLJ"
      },
      "source": [
        "Reading in of Datasets"
      ]
    },
    {
      "cell_type": "code",
      "execution_count": 2,
      "metadata": {
        "id": "lO1wA5hTYhwx"
      },
      "outputs": [],
      "source": [
        "#Prepare column names\n",
        "columns1=[\"Passenger_ID\", \"Flight_ID\", \"From_Airport_Code\", \"To_Airport_Code\",\"Departure_Time\", \"Duration\"]\n",
        "columns2=[\"Airport\",\"From_Airport_Code\", \"Latitude\",\"Longitude\"]\n",
        "#Read in both data sets\n",
        "airport=pd.read_csv('AComp_Passenger_data_no_error(1).csv',names=columns1)\n",
        "latlong=pd.read_csv('Top30_airports_LatLong(1).csv',names=columns2)\n",
        "\n"
      ]
    },
    {
      "cell_type": "code",
      "execution_count": null,
      "metadata": {
        "colab": {
          "base_uri": "https://localhost:8080/"
        },
        "id": "5JdkpKVKYjvn",
        "outputId": "969c10e2-86a0-4f32-d0b2-85a9e834d8be"
      },
      "outputs": [
        {
          "name": "stdout",
          "output_type": "stream",
          "text": [
            "    Passenger_ID Flight_ID From_Airport_Code To_Airport_Code  Departure_Time  \\\n",
            "0     UES9151GS5  SQU6245R               DEN             FRA      1420564460   \n",
            "1     UES9151GS5  XXQ4064B               JFK             FRA      1420563917   \n",
            "2     EZC9678QI6  SOH3431A               ORD             MIA      1420563649   \n",
            "3     ONL0812DH1  SOH3431A               ORD             MIA      1420563649   \n",
            "4     CYJ0225CH1  PME8178S               DEN             PEK      1420564409   \n",
            "..           ...       ...               ...             ...             ...   \n",
            "495   BWI0520BG6  BER7172M               KUL             LAS      1420565167   \n",
            "496   LLZ3798PE3  EWH6301Y               CAN             DFW      1420564967   \n",
            "497   KKP5277HZ7  KJR6646J               IAH             BKK      1420565203   \n",
            "498   JJM4724RF7  XXQ4064B               JFK             FRA      1420563917   \n",
            "499   SJD8775RZ4  WSK1289Z               CLT             DEN      1420563542   \n",
            "\n",
            "     Duration  \n",
            "0        1049  \n",
            "1         802  \n",
            "2         250  \n",
            "3         250  \n",
            "4        1322  \n",
            "..        ...  \n",
            "495      1848  \n",
            "496      1683  \n",
            "497      1928  \n",
            "498       802  \n",
            "499       278  \n",
            "\n",
            "[500 rows x 6 columns]\n"
          ]
        }
      ],
      "source": [
        "#Basic overview of airport dataset\n",
        "print(airport) "
      ]
    },
    {
      "cell_type": "code",
      "execution_count": 4,
      "metadata": {
        "colab": {
          "base_uri": "https://localhost:8080/"
        },
        "id": "NgrlQrJ_Y0oB",
        "outputId": "75b97343-726f-4aac-b398-b09b13675779"
      },
      "outputs": [
        {
          "output_type": "stream",
          "name": "stdout",
          "text": [
            "              Airport From_Airport_Code   Latitude   Longitude\n",
            "0             ATLANTA               ATL  33.636719  -84.428067\n",
            "1             BEIJING               PEK  40.080111  116.584556\n",
            "2              LONDON               LHR  51.477500   -0.461389\n",
            "3             CHICAGO               ORD  41.978603  -87.904842\n",
            "4               TOKYO               HND  35.552258  139.779694\n",
            "5         LOS ANGELES               LAX  33.942536 -118.408075\n",
            "6               PARIS               CDG  49.012779    2.550000\n",
            "7   DALLAS/FORT WORTH               DFW  32.896828  -97.037997\n",
            "8           FRANKFURT               FRA  50.026421    8.543125\n",
            "9           HONG KONG               HKG  22.308919  113.914603\n",
            "10             DENVER               DEN  39.861656 -104.673178\n",
            "11              DUBAI               DXB  25.252778   55.364444\n",
            "12            JAKARTA               CGK  -6.125567  106.655897\n",
            "13          AMSTERDAM               AMS  52.308613    4.763889\n",
            "14             MADRID               MAD  40.493556   -3.566764\n",
            "15            BANGKOK               BKK  13.681108  100.747283\n",
            "16           NEW YORK               JFK  40.639751  -73.778925\n",
            "17          SINGAPORE               SIN   1.350189  103.994433\n",
            "18          GUANGZHOU               CAN  23.392436  113.298786\n",
            "19          LAS VEGAS               LAS  36.080056 -115.152250\n",
            "20           SHANGHAI               PVG  31.143378  121.805214\n",
            "21      SAN FRANCISCO               SFO  37.618972 -122.374889\n",
            "22            PHOENIX               PHX  33.434278 -112.011583\n",
            "23            HOUSTON               IAH  29.984433  -95.341442\n",
            "24          CHARLOTTE               CLT  35.214000  -80.943139\n",
            "25              MIAMI               MIA  25.793250  -80.290556\n",
            "26             MUNICH               MUC  48.353783   11.786086\n",
            "27       KUALA LUMPUR               KUL   2.745578  101.709917\n",
            "28               ROME               FCO  41.804475   12.250797\n",
            "29           ISTANBUL               IST  40.976922   28.814606\n"
          ]
        }
      ],
      "source": [
        "#Basic overview of latitude and logitude dataset\n",
        "print(latlong)"
      ]
    },
    {
      "cell_type": "markdown",
      "metadata": {
        "id": "RG0KdP0sZEDR"
      },
      "source": [
        "Task 1:"
      ]
    },
    {
      "cell_type": "code",
      "execution_count": 3,
      "metadata": {
        "id": "Dq33em3IZH9B"
      },
      "outputs": [],
      "source": [
        "###Restrict Airport data set to airport codes and index\n",
        "airport1=airport.loc[:,'From_Airport_Code']\n",
        "\n",
        "###Restrict Latlong data set to airport names and corresponding airport codes\n",
        "latlong1=latlong[['Airport','From_Airport_Code']].set_index('Airport')\n",
        "\n",
        "###Restrict Airport data set to passenger id and index\n",
        "passenger1=airport.loc[:,'Passenger_ID']\n",
        "#\n",
        "#print(airport1)\n",
        "#print(latlong1)\n",
        "#print(passenger1)"
      ]
    },
    {
      "cell_type": "code",
      "source": [
        "#Task 1: Determine the total number of flights from each airport\n",
        "\n",
        "#Initialise lists\n",
        "targetlist = []\n",
        "dictionarylist = []\n",
        "\n",
        "#Function for creating a list of indices for the partitioned sets\n",
        "def divider(entryfile,split): \n",
        "  filevalue, splitvalue = divmod(entryfile.size, split)\n",
        "  return (entryfile[i*filevalue+min(i, splitvalue):(i+1)*filevalue+min(i+1, splitvalue)] for i in range(split))\n",
        "\n",
        "#Function for partitioning the sets in preperation for threading\n",
        "def partitioner1(entryfile,split,i):\n",
        "  if entryfile.size % split == 0:\n",
        "      divider(entryfile,split)\n",
        "      listing= list(divider(airport1,split))\n",
        "      \n",
        "      index=listing[i]\n",
        "      \n",
        "      return index\n",
        "  else:\n",
        "    print(str(entryfile.size) + ' cannot be subdivided by '+ str(split))\n",
        "    raise ValueError\n",
        "\n",
        "\n",
        "def read_input(entryfile):\n",
        "  for line in entryfile:\n",
        "  # Split the line into words\n",
        "    yield line.split()\n",
        "\n",
        "def inputmerge(mergefile,mergecode):\n",
        "  #Input Segment\n",
        "  file_dict = mergefile.to_dict(orient=\"dict\")[mergecode]\n",
        "  inv_file_dict = {value: key for key, value in file_dict.items()}\n",
        "  #Output: <Airport, FAA Code> -> <FAA Code, Airport>\n",
        "  return inv_file_dict\n",
        "\n",
        "def threadsection1(mergefile,countfile,inversedict,split):\n",
        "  start_time = perf_counter()\n",
        "  threads=[]\n",
        "  for i in range(split):\n",
        "    print(\"Activate thread \"+ str(i+1))\n",
        "    parting=partitioner1(countfile,split,i )\n",
        "    thread = Thread(target=map1(mergefile,parting,inversedict))\n",
        "    # start the threads\n",
        "    thread.start()\n",
        "    threads.append(thread)\n",
        "    # wait for the threads to complete\n",
        "  for i in range(len(threads)):\n",
        "    thread=threads[i]\n",
        "    thread.join()\n",
        "    print(\"End thread \"+ str(i+1))\n",
        "  end_time = perf_counter()\n",
        "  print(f'It took {end_time- start_time: 0.2f} second(s) to complete.')\n",
        "\n",
        "\n",
        "\n",
        "def map1(mergefile,countfile,passing):\n",
        "  #Map Segment\n",
        "  #Output: <FAA Code, x> -> <Airport, x>  where x is count\n",
        "  data = read_input(countfile)\n",
        "  for words in data:\n",
        "    for word in words:\n",
        "      #check to ensure mergefile is present, otherwise ignore\n",
        "      try:\n",
        "        targetcode= passing[word] \n",
        "      except NameError:\n",
        "        targetcode= word \n",
        "        pass \n",
        "        \n",
        "      dictkey= {targetcode: 1}\n",
        "      dictionarylist.append(dict(dictkey))\n",
        "\n",
        "#Reduce segment\n",
        "def reducer1():\n",
        "  #sorter segment, sorts dictionaries alphanumerically pre reduction\n",
        "  dictionary= sorted(dictionarylist, key= lambda d : list(d.keys()))\n",
        "\n",
        "  for key, value in dictionary[0].items():\n",
        "    current_target,current_count = [str(key),0] \n",
        "\n",
        "  for diction in dictionary:\n",
        "    for key, value in diction.items():\n",
        "      if key ==current_target:\n",
        "        current_count= current_count+value\n",
        "      else:\n",
        "        targetkey= {current_target: current_count}\n",
        "        targetlist.append(dict(targetkey))\n",
        "        current_target = key\n",
        "        current_count = value\n",
        "\n",
        "\n",
        "def main(mergefile,countfile,mergecode,split):\n",
        "  #map + reduce segments\n",
        "  try:\n",
        "    inversedict=inputmerge(mergefile,mergecode)\n",
        "  except NameError:\n",
        "    pass\n",
        "  threadsection1(mergefile,countfile,inversedict,split)\n",
        "  reducer1()\n",
        "\n",
        "if __name__ == \"__main__\":\n",
        "  main(latlong1,airport1,'From_Airport_Code',4)\n",
        "print(dictionarylist)\n",
        "\n",
        "#print(dictionary)\n",
        "print(targetlist)"
      ],
      "metadata": {
        "colab": {
          "base_uri": "https://localhost:8080/"
        },
        "id": "a55D7vx8H7d2",
        "outputId": "b8c44f30-aa3d-4632-acaa-b97cc64c89d8"
      },
      "execution_count": 4,
      "outputs": [
        {
          "output_type": "stream",
          "name": "stdout",
          "text": [
            "Activate thread 1\n",
            "Activate thread 2\n",
            "Activate thread 3\n",
            "Activate thread 4\n",
            "End thread 1\n",
            "End thread 2\n",
            "End thread 3\n",
            "End thread 4\n",
            "It took  0.01 second(s) to complete.\n",
            "[{'DENVER': 1}, {'NEW YORK': 1}, {'CHICAGO': 1}, {'CHICAGO': 1}, {'DENVER': 1}, {'KUALA LUMPUR': 1}, {'MADRID': 1}, {'DENVER': 1}, {'LONDON': 1}, {'NEW YORK': 1}, {'JAKARTA': 1}, {'MUNICH': 1}, {'AMSTERDAM': 1}, {'DALLAS/FORT WORTH': 1}, {'NEW YORK': 1}, {'DENVER': 1}, {'NEW YORK': 1}, {'MUNICH': 1}, {'KUALA LUMPUR': 1}, {'MIAMI': 1}, {'PARIS': 1}, {'GUANGZHOU': 1}, {'LONDON': 1}, {'CHICAGO': 1}, {'DENVER': 1}, {'HOUSTON': 1}, {'MUNICH': 1}, {'GUANGZHOU': 1}, {'CHICAGO': 1}, {'MIAMI': 1}, {'LAS VEGAS': 1}, {'PARIS': 1}, {'CHICAGO': 1}, {'CHARLOTTE': 1}, {'JAKARTA': 1}, {'LAS VEGAS': 1}, {'ATLANTA': 1}, {'DENVER': 1}, {'PARIS': 1}, {'LONDON': 1}, {'CHICAGO': 1}, {'KUALA LUMPUR': 1}, {'CHARLOTTE': 1}, {'CHICAGO': 1}, {'SHANGHAI': 1}, {'DENVER': 1}, {'JAKARTA': 1}, {'LONDON': 1}, {'SHANGHAI': 1}, {'ROME': 1}, {'KUALA LUMPUR': 1}, {'HOUSTON': 1}, {'JAKARTA': 1}, {'KUALA LUMPUR': 1}, {'DENVER': 1}, {'GUANGZHOU': 1}, {'NEW YORK': 1}, {'SHANGHAI': 1}, {'DENVER': 1}, {'MADRID': 1}, {'PARIS': 1}, {'LONDON': 1}, {'CHICAGO': 1}, {'BANGKOK': 1}, {'BEIJING': 1}, {'DENVER': 1}, {'BANGKOK': 1}, {'TOKYO': 1}, {'JAKARTA': 1}, {'PARIS': 1}, {'BANGKOK': 1}, {'PARIS': 1}, {'GUANGZHOU': 1}, {'SHANGHAI': 1}, {'CHARLOTTE': 1}, {'CHICAGO': 1}, {'MIAMI': 1}, {'CHARLOTTE': 1}, {'KUALA LUMPUR': 1}, {'DENVER': 1}, {'CHICAGO': 1}, {'GUANGZHOU': 1}, {'KUALA LUMPUR': 1}, {'JAKARTA': 1}, {'NEW YORK': 1}, {'CHARLOTTE': 1}, {'GUANGZHOU': 1}, {'HOUSTON': 1}, {'HOUSTON': 1}, {'KUALA LUMPUR': 1}, {'KUALA LUMPUR': 1}, {'JAKARTA': 1}, {'GUANGZHOU': 1}, {'MUNICH': 1}, {'ATLANTA': 1}, {'ROME': 1}, {'PARIS': 1}, {'GUANGZHOU': 1}, {'PARIS': 1}, {'ATLANTA': 1}, {'CHICAGO': 1}, {'LONDON': 1}, {'CHICAGO': 1}, {'HOUSTON': 1}, {'JAKARTA': 1}, {'JAKARTA': 1}, {'PARIS': 1}, {'LAS VEGAS': 1}, {'GUANGZHOU': 1}, {'CHICAGO': 1}, {'SHANGHAI': 1}, {'LONDON': 1}, {'NEW YORK': 1}, {'HOUSTON': 1}, {'ROME': 1}, {'LONDON': 1}, {'MADRID': 1}, {'ATLANTA': 1}, {'ROME': 1}, {'MIAMI': 1}, {'CHARLOTTE': 1}, {'LAS VEGAS': 1}, {'ROME': 1}, {'KUALA LUMPUR': 1}, {'PARIS': 1}, {'LONDON': 1}, {'HOUSTON': 1}, {'DALLAS/FORT WORTH': 1}, {'CHICAGO': 1}, {'DENVER': 1}, {'ATLANTA': 1}, {'JAKARTA': 1}, {'ATLANTA': 1}, {'ATLANTA': 1}, {'AMSTERDAM': 1}, {'DENVER': 1}, {'DENVER': 1}, {'DENVER': 1}, {'MADRID': 1}, {'LONDON': 1}, {'ATLANTA': 1}, {'GUANGZHOU': 1}, {'GUANGZHOU': 1}, {'HOUSTON': 1}, {'KUALA LUMPUR': 1}, {'MIAMI': 1}, {'DENVER': 1}, {'GUANGZHOU': 1}, {'LONDON': 1}, {'LONDON': 1}, {'ROME': 1}, {'BANGKOK': 1}, {'LONDON': 1}, {'TOKYO': 1}, {'PARIS': 1}, {'JAKARTA': 1}, {'ATLANTA': 1}, {'NEW YORK': 1}, {'DENVER': 1}, {'NEW YORK': 1}, {'MADRID': 1}, {'NEW YORK': 1}, {'AMSTERDAM': 1}, {'CHICAGO': 1}, {'DENVER': 1}, {'DENVER': 1}, {'DENVER': 1}, {'BEIJING': 1}, {'SHANGHAI': 1}, {'GUANGZHOU': 1}, {'AMSTERDAM': 1}, {'ATLANTA': 1}, {'ATLANTA': 1}, {'ATLANTA': 1}, {'JAKARTA': 1}, {'LAS VEGAS': 1}, {'NEW YORK': 1}, {'ATLANTA': 1}, {'DENVER': 1}, {'BANGKOK': 1}, {'MADRID': 1}, {'ATLANTA': 1}, {'DALLAS/FORT WORTH': 1}, {'BANGKOK': 1}, {'BEIJING': 1}, {'NEW YORK': 1}, {'NEW YORK': 1}, {'KUALA LUMPUR': 1}, {'DALLAS/FORT WORTH': 1}, {'AMSTERDAM': 1}, {'CHICAGO': 1}, {'TOKYO': 1}, {'LONDON': 1}, {'MIAMI': 1}, {'LONDON': 1}, {'JAKARTA': 1}, {'TOKYO': 1}, {'HOUSTON': 1}, {'AMSTERDAM': 1}, {'DENVER': 1}, {'AMSTERDAM': 1}, {'SHANGHAI': 1}, {'MUNICH': 1}, {'ATLANTA': 1}, {'LONDON': 1}, {'TOKYO': 1}, {'SHANGHAI': 1}, {'GUANGZHOU': 1}, {'PARIS': 1}, {'SHANGHAI': 1}, {'HOUSTON': 1}, {'NEW YORK': 1}, {'ROME': 1}, {'BANGKOK': 1}, {'LAS VEGAS': 1}, {'MADRID': 1}, {'KUALA LUMPUR': 1}, {'ATLANTA': 1}, {'CHARLOTTE': 1}, {'DENVER': 1}, {'GUANGZHOU': 1}, {'MIAMI': 1}, {'DENVER': 1}, {'ATLANTA': 1}, {'GUANGZHOU': 1}, {'MADRID': 1}, {'DALLAS/FORT WORTH': 1}, {'DENVER': 1}, {'ATLANTA': 1}, {'ATLANTA': 1}, {'TOKYO': 1}, {'HOUSTON': 1}, {'LONDON': 1}, {'BEIJING': 1}, {'LONDON': 1}, {'TOKYO': 1}, {'KUALA LUMPUR': 1}, {'JAKARTA': 1}, {'BEIJING': 1}, {'CHICAGO': 1}, {'LAS VEGAS': 1}, {'SHANGHAI': 1}, {'DENVER': 1}, {'HOUSTON': 1}, {'NEW YORK': 1}, {'HOUSTON': 1}, {'CHARLOTTE': 1}, {'LAS VEGAS': 1}, {'ROME': 1}, {'CHICAGO': 1}, {'JAKARTA': 1}, {'HOUSTON': 1}, {'LAS VEGAS': 1}, {'BEIJING': 1}, {'BANGKOK': 1}, {'HOUSTON': 1}, {'JAKARTA': 1}, {'ROME': 1}, {'MUNICH': 1}, {'KUALA LUMPUR': 1}, {'SHANGHAI': 1}, {'HOUSTON': 1}, {'DALLAS/FORT WORTH': 1}, {'MUNICH': 1}, {'DENVER': 1}, {'CHARLOTTE': 1}, {'GUANGZHOU': 1}, {'DENVER': 1}, {'TOKYO': 1}, {'ATLANTA': 1}, {'JAKARTA': 1}, {'HOUSTON': 1}, {'ATLANTA': 1}, {'ATLANTA': 1}, {'ROME': 1}, {'PARIS': 1}, {'AMSTERDAM': 1}, {'AMSTERDAM': 1}, {'CHARLOTTE': 1}, {'BANGKOK': 1}, {'JAKARTA': 1}, {'ATLANTA': 1}, {'KUALA LUMPUR': 1}, {'DENVER': 1}, {'CHARLOTTE': 1}, {'TOKYO': 1}, {'DENVER': 1}, {'HOUSTON': 1}, {'DENVER': 1}, {'CHICAGO': 1}, {'BANGKOK': 1}, {'ATLANTA': 1}, {'PARIS': 1}, {'KUALA LUMPUR': 1}, {'KUALA LUMPUR': 1}, {'NEW YORK': 1}, {'ATLANTA': 1}, {'MUNICH': 1}, {'LAS VEGAS': 1}, {'JAKARTA': 1}, {'CHICAGO': 1}, {'GUANGZHOU': 1}, {'LONDON': 1}, {'GUANGZHOU': 1}, {'ATLANTA': 1}, {'JAKARTA': 1}, {'MADRID': 1}, {'CHICAGO': 1}, {'LONDON': 1}, {'CHICAGO': 1}, {'GUANGZHOU': 1}, {'KUALA LUMPUR': 1}, {'SHANGHAI': 1}, {'AMSTERDAM': 1}, {'LAS VEGAS': 1}, {'HOUSTON': 1}, {'BEIJING': 1}, {'HOUSTON': 1}, {'CHICAGO': 1}, {'SHANGHAI': 1}, {'HOUSTON': 1}, {'DENVER': 1}, {'DENVER': 1}, {'CHICAGO': 1}, {'MIAMI': 1}, {'CHICAGO': 1}, {'LAS VEGAS': 1}, {'AMSTERDAM': 1}, {'KUALA LUMPUR': 1}, {'ROME': 1}, {'AMSTERDAM': 1}, {'HOUSTON': 1}, {'GUANGZHOU': 1}, {'JAKARTA': 1}, {'GUANGZHOU': 1}, {'ATLANTA': 1}, {'ATLANTA': 1}, {'LONDON': 1}, {'NEW YORK': 1}, {'KUALA LUMPUR': 1}, {'KUALA LUMPUR': 1}, {'KUALA LUMPUR': 1}, {'DENVER': 1}, {'DALLAS/FORT WORTH': 1}, {'DENVER': 1}, {'HOUSTON': 1}, {'MADRID': 1}, {'KUALA LUMPUR': 1}, {'HOUSTON': 1}, {'BANGKOK': 1}, {'GUANGZHOU': 1}, {'MUNICH': 1}, {'JAKARTA': 1}, {'CHARLOTTE': 1}, {'ATLANTA': 1}, {'ATLANTA': 1}, {'CHARLOTTE': 1}, {'BEIJING': 1}, {'DENVER': 1}, {'KUALA LUMPUR': 1}, {'PARIS': 1}, {'NEW YORK': 1}, {'DENVER': 1}, {'KUALA LUMPUR': 1}, {'BANGKOK': 1}, {'ATLANTA': 1}, {'PARIS': 1}, {'SHANGHAI': 1}, {'HOUSTON': 1}, {'ATLANTA': 1}, {'PARIS': 1}, {'MUNICH': 1}, {'NEW YORK': 1}, {'NEW YORK': 1}, {'TOKYO': 1}, {'CHICAGO': 1}, {'CHICAGO': 1}, {'JAKARTA': 1}, {'MIAMI': 1}, {'LAS VEGAS': 1}, {'CHARLOTTE': 1}, {'JAKARTA': 1}, {'HOUSTON': 1}, {'CHICAGO': 1}, {'ROME': 1}, {'HOUSTON': 1}, {'KUALA LUMPUR': 1}, {'MIAMI': 1}, {'HOUSTON': 1}, {'MIAMI': 1}, {'GUANGZHOU': 1}, {'NEW YORK': 1}, {'TOKYO': 1}, {'GUANGZHOU': 1}, {'CHICAGO': 1}, {'GUANGZHOU': 1}, {'HOUSTON': 1}, {'MUNICH': 1}, {'DENVER': 1}, {'MUNICH': 1}, {'CHARLOTTE': 1}, {'NEW YORK': 1}, {'JAKARTA': 1}, {'AMSTERDAM': 1}, {'GUANGZHOU': 1}, {'NEW YORK': 1}, {'ROME': 1}, {'HOUSTON': 1}, {'ATLANTA': 1}, {'HOUSTON': 1}, {'CHARLOTTE': 1}, {'SHANGHAI': 1}, {'CHICAGO': 1}, {'CHARLOTTE': 1}, {'LONDON': 1}, {'HOUSTON': 1}, {'LONDON': 1}, {'LAS VEGAS': 1}, {'CHICAGO': 1}, {'SHANGHAI': 1}, {'SHANGHAI': 1}, {'GUANGZHOU': 1}, {'BANGKOK': 1}, {'DENVER': 1}, {'BEIJING': 1}, {'LAS VEGAS': 1}, {'BANGKOK': 1}, {'GUANGZHOU': 1}, {'GUANGZHOU': 1}, {'JAKARTA': 1}, {'HOUSTON': 1}, {'GUANGZHOU': 1}, {'BEIJING': 1}, {'BEIJING': 1}, {'AMSTERDAM': 1}, {'JAKARTA': 1}, {'KUALA LUMPUR': 1}, {'CHARLOTTE': 1}, {'TOKYO': 1}, {'KUALA LUMPUR': 1}, {'GUANGZHOU': 1}, {'DENVER': 1}, {'BEIJING': 1}, {'DALLAS/FORT WORTH': 1}, {'PARIS': 1}, {'CHARLOTTE': 1}, {'SHANGHAI': 1}, {'CHARLOTTE': 1}, {'KUALA LUMPUR': 1}, {'MUNICH': 1}, {'PARIS': 1}, {'DENVER': 1}, {'GUANGZHOU': 1}, {'KUALA LUMPUR': 1}, {'LAS VEGAS': 1}, {'BEIJING': 1}, {'ROME': 1}, {'GUANGZHOU': 1}, {'MADRID': 1}, {'AMSTERDAM': 1}, {'HOUSTON': 1}, {'ATLANTA': 1}, {'LAS VEGAS': 1}, {'LONDON': 1}, {'CHICAGO': 1}, {'SHANGHAI': 1}, {'CHICAGO': 1}, {'ATLANTA': 1}, {'DALLAS/FORT WORTH': 1}, {'HOUSTON': 1}, {'TOKYO': 1}, {'BANGKOK': 1}, {'DENVER': 1}, {'DENVER': 1}, {'PARIS': 1}, {'DALLAS/FORT WORTH': 1}, {'DENVER': 1}, {'NEW YORK': 1}, {'DENVER': 1}, {'ATLANTA': 1}, {'ROME': 1}, {'GUANGZHOU': 1}, {'KUALA LUMPUR': 1}, {'HOUSTON': 1}, {'DENVER': 1}, {'DALLAS/FORT WORTH': 1}, {'GUANGZHOU': 1}, {'MADRID': 1}, {'BANGKOK': 1}, {'MADRID': 1}, {'BANGKOK': 1}, {'PARIS': 1}, {'MUNICH': 1}, {'SHANGHAI': 1}, {'LONDON': 1}, {'KUALA LUMPUR': 1}, {'GUANGZHOU': 1}, {'HOUSTON': 1}, {'NEW YORK': 1}, {'CHARLOTTE': 1}]\n",
            "[{'AMSTERDAM': 15}, {'ATLANTA': 36}, {'BANGKOK': 17}, {'BEIJING': 13}, {'CHARLOTTE': 21}, {'CHICAGO': 33}, {'DALLAS/FORT WORTH': 11}, {'DENVER': 46}, {'GUANGZHOU': 37}, {'HOUSTON': 37}, {'JAKARTA': 27}, {'KUALA LUMPUR': 33}, {'LAS VEGAS': 17}, {'LONDON': 25}, {'MADRID': 13}, {'MIAMI': 11}, {'MUNICH': 14}, {'NEW YORK': 25}, {'PARIS': 21}, {'ROME': 15}, {'SHANGHAI': 20}]\n"
          ]
        }
      ]
    },
    {
      "cell_type": "code",
      "execution_count": 7,
      "metadata": {
        "colab": {
          "base_uri": "https://localhost:8080/"
        },
        "id": "tr9XrA5-UjrZ",
        "outputId": "3d647ef4-84f1-4c7b-de14-407c8f17c670"
      },
      "outputs": [
        {
          "output_type": "stream",
          "name": "stdout",
          "text": [
            "{'UES9151GS5': 25}\n",
            "[{'BWI0520BG6': 23}, {'CDC0302NN5': 12}, {'CKZ3132BR4': 19}, {'CXN7304ER2': 17}, {'CYJ0225CH1': 11}, {'DAZ3029XA0': 23}, {'EDV2089LK5': 13}, {'EZC9678QI6': 21}, {'HCA3158QA6': 21}, {'HGO4350KK1': 18}, {'IEG9308EA5': 10}, {'JBE2302VO4': 16}, {'JJM4724RF7': 21}, {'KKP5277HZ7': 11}, {'LLZ3798PE3': 16}, {'MXU9187YC7': 14}, {'ONL0812DH1': 12}, {'PAJ3974RK1': 10}, {'PIT2755XC1': 8}, {'POP2875LH3': 19}, {'PUD8209OG3': 23}, {'SJD8775RZ4': 16}, {'SPR4484HA6': 23}, {'UES9151GS5': 25}, {'UMH6360YP0': 1}, {'VZY2993ME1': 16}, {'WBE6935NU3': 19}, {'WTC9125IE5': 14}, {'WYU2010YH8': 19}, {'XFG5747ZT9': 13}]\n"
          ]
        }
      ],
      "source": [
        "###Task 2: Determine the passenger having had the highest number of flights.\n",
        "\n",
        "targetlist = []\n",
        "dictionarylist2 = []\n",
        "#Output: <Passenger code, x> where x is count, then work out max value\n",
        "\n",
        "def map2(inputfile):\n",
        "  #Map Segment\n",
        "  inputdata = read_input(inputfile)\n",
        "  for words in inputdata:\n",
        "    dictkey2= {word: 1 for word in words}\n",
        "    dictionarylist2.append(dict(dictkey2))\n",
        "  \n",
        "#Reduce segment\n",
        "def reducer2():\n",
        "  #sorter segment, sorts dictionaries alphanumerically pre reduction\n",
        "  dictionary2= sorted(dictionarylist2, key= lambda d : list(d.keys()))\n",
        "\n",
        "  #reduce segment\n",
        "  for key, value in dictionary2[0].items():\n",
        "    current_passenger,current_count = [str(key),0] \n",
        "  for diction2 in dictionary2:\n",
        "    for key, value in diction2.items():\n",
        "      if key ==current_passenger:\n",
        "        current_count= current_count+value\n",
        "      else:\n",
        "        targetkey= {current_passenger: current_count}\n",
        "        targetlist.append(dict(targetkey))\n",
        "        current_passenger = key\n",
        "        current_count = value\n",
        "\n",
        "def main(inputfile):\n",
        "  #map + reduce segments\n",
        "  map2(inputfile)\n",
        "  reducer2()\n",
        "  #mosttarget= sorted(targetlist, key= lambda value: int(value)) )\n",
        "  mosttarget = max(targetlist, key=lambda d:list(d.values()))\n",
        "  print(mosttarget)\n",
        "\n",
        "\n",
        "if __name__ == \"__main__\":\n",
        "  main(passenger1)\n",
        "\n",
        "print(targetlist)\n",
        "\n",
        "\n"
      ]
    }
  ],
  "metadata": {
    "colab": {
      "collapsed_sections": [],
      "name": "Cloudcomputingcourseworkmultithread.ipynb",
      "provenance": [],
      "authorship_tag": "ABX9TyMlRbOFYrsgoyfK4sOB/JGo",
      "include_colab_link": true
    },
    "kernelspec": {
      "display_name": "Python 3",
      "name": "python3"
    },
    "language_info": {
      "name": "python"
    }
  },
  "nbformat": 4,
  "nbformat_minor": 0
}